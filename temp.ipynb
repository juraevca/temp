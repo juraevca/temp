{
 "cells": [
  {
   "cell_type": "markdown",
   "id": "dc7fcce4",
   "metadata": {},
   "source": [
    "# This is a markdown cell"
   ]
  },
  {
   "cell_type": "markdown",
   "id": "66b08fe3",
   "metadata": {},
   "source": [
    "## this is an introductory statement"
   ]
  },
  {
   "cell_type": "markdown",
   "id": "a735873e",
   "metadata": {},
   "source": [
    "<ol>\n",
    "    <li>Python</li>\n",
    "    <li>SQL</li>\n",
    "    <li>R</li>\n",
    "</ol>"
   ]
  },
  {
   "cell_type": "markdown",
   "id": "c76750c4",
   "metadata": {},
   "source": [
    "<ol>\n",
    "    <li>pandas</li>\n",
    "    <li>numpy</li>\n",
    "    <li>scikit-learn</li>\n",
    "    <li>scipy</li>\n",
    "    <li>tensorflow</li>\n",
    "    <li>pytorch</li>    \n",
    "</ol>"
   ]
  },
  {
   "cell_type": "markdown",
   "id": "b9f1433c",
   "metadata": {},
   "source": [
    "<ol>\n",
    "    <li>Git</li>\n",
    "    <li>Apache Spark</li>\n",
    "    <li>Apache Kafka</li>\n",
    "    <li>AWS, Azure, GCP</li>\n",
    "</ol>"
   ]
  },
  {
   "cell_type": "markdown",
   "id": "ace95fb5",
   "metadata": {},
   "source": [
    "#### + plus\n",
    "#### - subtract\n",
    "#### * multiply\n",
    "#### ** exponention\n",
    "#### / division\n",
    "#### // floor division\n",
    "#### () brackets\n",
    "#### % modulus"
   ]
  },
  {
   "cell_type": "code",
   "execution_count": 3,
   "id": "f98af021",
   "metadata": {},
   "outputs": [
    {
     "name": "stdout",
     "output_type": "stream",
     "text": [
      "13\n"
     ]
    }
   ],
   "source": [
    "number = 2*5+3\n",
    "print(number)"
   ]
  },
  {
   "cell_type": "code",
   "execution_count": 4,
   "id": "1b330835",
   "metadata": {},
   "outputs": [
    {
     "data": {
      "text/plain": [
       "120"
      ]
     },
     "execution_count": 4,
     "metadata": {},
     "output_type": "execute_result"
    }
   ],
   "source": [
    "def hourtominutes(hour):\n",
    "    return hour*60\n",
    "\n",
    "hourtominutes(2)"
   ]
  },
  {
   "cell_type": "markdown",
   "id": "9f595424",
   "metadata": {},
   "source": [
    "# this is an introductory sentence\n",
    "\n",
    "<ul>\n",
    "    <li>list1</li>\n",
    "    <li>list2</li>\n",
    "    <li>list3</li>\n",
    "</ul>"
   ]
  },
  {
   "cell_type": "markdown",
   "id": "ed206b23",
   "metadata": {},
   "source": [
    "### Authors name here"
   ]
  }
 ],
 "metadata": {
  "kernelspec": {
   "display_name": "Python 3 (ipykernel)",
   "language": "python",
   "name": "python3"
  },
  "language_info": {
   "codemirror_mode": {
    "name": "ipython",
    "version": 3
   },
   "file_extension": ".py",
   "mimetype": "text/x-python",
   "name": "python",
   "nbconvert_exporter": "python",
   "pygments_lexer": "ipython3",
   "version": "3.11.3"
  }
 },
 "nbformat": 4,
 "nbformat_minor": 5
}
